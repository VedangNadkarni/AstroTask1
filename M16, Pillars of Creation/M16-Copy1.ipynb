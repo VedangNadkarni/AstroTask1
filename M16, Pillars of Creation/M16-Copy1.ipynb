{
 "cells": [
  {
   "cell_type": "markdown",
   "metadata": {},
   "source": [
    "The following contains data from the Hubble Space Telescope and the IKI Observatory (Institut Kosmicheskih Issledovanyi, Russia), of the Eagle Nebula, M16.\n"
   ]
  },
  {
   "cell_type": "code",
   "execution_count": 1,
   "metadata": {},
   "outputs": [],
   "source": [
    "import numpy as np\n",
    "import matplotlib.pyplot as plt"
   ]
  },
  {
   "cell_type": "code",
   "execution_count": 2,
   "metadata": {},
   "outputs": [],
   "source": [
    "from astropy.io import fits"
   ]
  },
  {
   "cell_type": "code",
   "execution_count": 3,
   "metadata": {},
   "outputs": [
    {
     "data": {
      "text/plain": [
       "<module 'astropy.io.fits' from 'C:\\\\Users\\\\Vedang\\\\anaconda3\\\\lib\\\\site-packages\\\\astropy\\\\io\\\\fits\\\\__init__.py'>"
      ]
     },
     "execution_count": 3,
     "metadata": {},
     "output_type": "execute_result"
    }
   ],
   "source": [
    "fits"
   ]
  },
  {
   "cell_type": "code",
   "execution_count": 4,
   "metadata": {},
   "outputs": [],
   "source": [
    "M16 = fits.open('color_hst_07632_01_wfpc2_f658n_f502n_f469n_pc_sci.fits')"
   ]
  },
  {
   "cell_type": "code",
   "execution_count": 5,
   "metadata": {},
   "outputs": [
    {
     "data": {
      "text/plain": [
       "[<astropy.io.fits.hdu.image.PrimaryHDU object at 0x0000029E367533A0>]"
      ]
     },
     "execution_count": 5,
     "metadata": {},
     "output_type": "execute_result"
    }
   ],
   "source": [
    "M16"
   ]
  },
  {
   "cell_type": "code",
   "execution_count": 6,
   "metadata": {},
   "outputs": [
    {
     "name": "stdout",
     "output_type": "stream",
     "text": [
      "Filename: color_hst_07632_01_wfpc2_f658n_f502n_f469n_pc_sci.fits\n",
      "No.    Name      Ver    Type      Cards   Dimensions   Format\n",
      "  0  PRIMARY       1 PrimaryHDU     125   (2100, 2100, 3)   float32   \n"
     ]
    }
   ],
   "source": [
    "M16.info()"
   ]
  },
  {
   "cell_type": "code",
   "execution_count": 7,
   "metadata": {},
   "outputs": [
    {
     "data": {
      "text/plain": [
       "<astropy.io.fits.hdu.image.PrimaryHDU at 0x29e367533a0>"
      ]
     },
     "execution_count": 7,
     "metadata": {},
     "output_type": "execute_result"
    }
   ],
   "source": [
    "M16[0]"
   ]
  },
  {
   "cell_type": "code",
   "execution_count": 8,
   "metadata": {},
   "outputs": [
    {
     "data": {
      "text/plain": [
       "SIMPLE  =                    T / file does conform to FITS standard             \n",
       "BITPIX  =                  -32 / number of bits per data pixel                  \n",
       "NAXIS   =                    3 / number of data axes                            \n",
       "NAXIS1  =                 2100 / length of data axis 1                          \n",
       "NAXIS2  =                 2100 / length of data axis 2                          \n",
       "NAXIS3  =                    3 / length of data axis 3                          \n",
       "EXTEND  =                    T / FITS dataset may contain extensions            \n",
       "COMMENT   FITS (Flexible Image Transport System) format is defined in 'Astronomy\n",
       "COMMENT   and Astrophysics', volume 376, page 359; bibcode: 2001A&A...376..359H \n",
       "DATE    = '2021-01-15T12:23:35' / file creation date (YYYY-MM-DDThh:mm:ss UT)   \n",
       "CRVAL1  =    283.4120448422222 / right ascension of reference pixel (deg)       \n",
       "CRVAL2  =    33.03179877166667 / declination of reference pixel (deg)           \n",
       "CRPIX1  =                1050. / Reference pixel shifted for cutout             \n",
       "CRPIX2  =                1050. / Reference pixel shifted for cutout             \n",
       "CD1_1   = -1.388888888888889E-05 / partial of the right ascension w.r.t. x      \n",
       "CD1_2   =                  0.0 / partial of the right ascension w.r.t. y        \n",
       "CD2_1   =                  0.0 / partial of the declination w.r.t. x            \n",
       "CD2_2   = 1.388888888888889E-05 / partial of the declination w.r.t. y           \n",
       "DATAMIN =             -2024.82 / minimum value of the data                      \n",
       "DATAMAX =             14180.67 / maximum value of the data                      \n",
       "VAFACTOR=                  1.0 / velocity aberration plate scale factor         \n",
       "MIR_REVR=                    T / is the image mirror reversed?                  \n",
       "ORIENTAT=                  0.0 / orientation of the image (deg)                 \n",
       "FILLCNT =                    0 / number of segments containing fill             \n",
       "ERRCNT  =                    0 / number of segments containing errors           \n",
       "FPKTTIME=         51102.229834 / time of the first packet (Modified Julian Date)\n",
       "LPKTTIME=    51102.23000100001 / time of the last packet (Modified Julian Date) \n",
       "CTYPE1  = 'RA---TAN'           / first coordinate type                          \n",
       "CTYPE2  = 'DEC--TAN'           / second coordinate type                         \n",
       "CTYPE3  = 'RGB     '           / RGB color image                                \n",
       "DETECTOR=                    1 / CCD detector: PC 1, WFC 2-4                    \n",
       "DEZERO  =             315.4437 / mean bias level from EED extended register     \n",
       "BIASEVEN=             315.4651 / bias level for even-numbered columns           \n",
       "BIASODD =             315.4223 / bias level for odd-numbered columns            \n",
       "BIASEVNU=                    0 / uncorrected bias level for even-numbered column\n",
       "BIASODDU=                    0 / uncorrected bias level for odd-numbered columns\n",
       "GOODMIN =            -7.544923 / minimum value of the \"good\" pixels             \n",
       "GOODMAX =             2837.369 / maximum value of the \"good\" pixels             \n",
       "DATAMEAN=              0.21389 / mean value of the \"good\" pixels                \n",
       "GPIXELS =               552444 / number of \"good\" pixels (DQF = 0)              \n",
       "SOFTERRS=                    0 / number of \"soft error\" pixels (DQF = 1)        \n",
       "CALIBDEF=                82437 / number of \"calibration defect\" pixels (DQF = 2)\n",
       "STATICD =                    0 / number of \"static defect\" pixels (DQF = 4)     \n",
       "ATODSAT =                    0 / number of \"AtoD saturated\" pixels (DQF = 8)    \n",
       "DATALOST=                    0 / number of \"data lost\" pixels (DQF = 16)        \n",
       "BADPIXEL=                    0 / number of \"generic bad\" pixels (DQF = 32)      \n",
       "OVERLAP =                    0 / number of \"image overlap\" pixels (DQF = 64)    \n",
       "PHOTMODE= 'WFPC2,1,A2D7,F658N,,CAL                         ' / Photometry mode  \n",
       "PHOTFLAM= 1.454421348314607E-17 / Inverse Sensitivity                           \n",
       "PHOTZPT =                -21.1 / Zero point                                     \n",
       "PHOTPLAM=             6590.866 / Pivot wavelength                               \n",
       "PHOTBW  =             29.38181 / RMS bandwidth of the filter                    \n",
       "MEDIAN  =            0.1114057 / middle data value when good qual pixels sorted \n",
       "MEDSHADO=             2.259974 / median pixel value in shadow of pyramid edge   \n",
       "HISTWIDE=            0.9899155 / width of the histogram                         \n",
       "SKEWNESS=            -3.135406 / skewness of the histogram                      \n",
       "MEANC10 =           -0.0212655 / mean of a 10x10 region at center of chip       \n",
       "MEANC25 =             1.097557 / mean of a 25x25 region at center of chip       \n",
       "MEANC50 =            0.3433431 / mean of a 50x50 region at center of chip       \n",
       "MEANC100=            0.2149092 / mean of a 100x100 region at center of chip     \n",
       "MEANC200=              0.21232 / mean of a 200x200 region at center of chip     \n",
       "MEANC300=            0.2266964 / mean of a 300x300 region at center of chip     \n",
       "BACKGRND=            0.5235251 / estimated background level                     \n",
       "ZP_CORR =          0.006980116 / delta magnitude induced by UV contamination    \n",
       "CTE_1E2 =                    0 / expected delta mag from CTE for 100 e- PSF     \n",
       "CTE_1E3 =                    0 / expected delta mag from CTE for 1000 e- PSF    \n",
       "CTE_1E4 =                    0 / expected delta mag from CTE for 10000 e- PSF   \n",
       "EXPNAME = 'u5310103r'          / 9 character exposure identifier                \n",
       "ROOTNAME= 'u5310103r'          / rootname of the observation set                \n",
       "OCRVAL1 =       283.4209644656 / right ascension of reference pixel (deg)       \n",
       "OCRVAL2 =       33.03315765274 / declination of reference pixel (deg)           \n",
       "OCRPIX2 =                424.5 / y-coordinate of reference pixel                \n",
       "OCRPIX1 =                  420 / x-coordinate of reference pixel                \n",
       "ONAXIS2 =                  800                                                  \n",
       "ONAXIS1 =                  800                                                  \n",
       "OCD2_2  =         -6.96304E-06 / partial of the declination w.r.t. y            \n",
       "OCD2_1  =          1.05551E-05 / partial of the declination w.r.t. x            \n",
       "OORIENTA=    123.4244631515003 / orientation of the image (deg)                 \n",
       "OCTYPE1 = 'RA---TAN'           / first coordinate type                          \n",
       "OCD1_1  =          6.96626E-06 / partial of the right ascension w.r.t. x        \n",
       "OCD1_2  =          1.05502E-05 / partial of the right ascension w.r.t. y        \n",
       "OCTYPE2 = 'DEC--TAN'           / second coordinate type                         \n",
       "WCSCDATE= '23:35:31 (12/12/2009)' / Time WCS keywords were copied.              \n",
       "OCX10   = -7.741800135772792E-07                                                \n",
       "OCX11   =              0.04554                                                  \n",
       "OCY10   =              0.04554                                                  \n",
       "OCY11   = 5.016231024870648E-05                                                 \n",
       "BUNIT   = 'COUNTS/S'           / Units of science product                       \n",
       "O_CRVAL1=          283.4118292                                                  \n",
       "O_CRVAL2=          33.03162085                                                  \n",
       "G_CRVAL1=        283.411559245 / GSC2 CRVAL1                                    \n",
       "G_CRVAL2=    33.03195027166667 / GSC2 CRVAL2                                    \n",
       "G_DRA   =            -0.971838 / GSC2 delta RA in arcsec                        \n",
       "G_DDEC  =             1.185918 / GSC2 delta DEC in arcsec                       \n",
       "G_RMSRA =             0.901911 / GSC2 rms in arcsec                             \n",
       "G_RMSDEC=             0.840008 / GSC2 rms in arcsec                             \n",
       "G_NMATCH=                    6 / GSC2 number of sources                         \n",
       "T_CRVAL1=    283.4120448422222 / 2MASS CRVAL1                                   \n",
       "T_CRVAL2=    33.03179877166667 / 2MASS CRVAL2                                   \n",
       "T_DRA   =             0.776312 / 2MASS delta in arcsec                          \n",
       "T_DDEC  =             0.640518 / 2MASS delta in arcsec                          \n",
       "T_RMSRA =             0.039957 / 2MASS rms in arcsec                            \n",
       "T_RMSDEC=             0.061161 / 2MASS rms in arcsec                            \n",
       "T_NMATCH=                   11 / 2MASS number of sources                        \n",
       "HISTORY All refereed publications based on data obtained from the HLA must      \n",
       "HISTORY carry the following footnote:                                           \n",
       "HISTORY                                                                         \n",
       "HISTORY  \"Based on observations made with the NASA/ESA Hubble Space Telescope,  \n",
       "HISTORY   and obtained from the Hubble Legacy Archive, which is a collaboration \n",
       "HISTORY   between the Space Telescope Science Institute (STScI/NASA), the Space \n",
       "HISTORY   Telescope European Coordinating Facility (ST-ECF/ESA) and the         \n",
       "HISTORY   Canadian Astronomy Data Centre (CADC/NRC/CSA).\"                       \n",
       "HISTORY                                                                         \n",
       "HISTORY One copy of each paper resulting from data obtained from the HLA        \n",
       "HISTORY should be sent to the STScI.                                            \n",
       "HISTORY                                                                         \n",
       "HISTORY In addition, publications of research supported by an STScI grant       \n",
       "HISTORY must carry the following acknowledgment:                                \n",
       "HISTORY                                                                         \n",
       "HISTORY  \"Support for Program number                                            \n",
       "HISTORY   ____________ was provided by NASA through a grant from the Space      \n",
       "HISTORY   Telescope Science Institute, which is operated by the Association of  \n",
       "HISTORY   Universities for Reasearch in Astronomy, Incorporated, under NASA     \n",
       "HISTORY   contract NAS5-26555.\"                                                 \n",
       "HISTORY Created by fitscut 1.4.2 (William Jon McCann)                           "
      ]
     },
     "execution_count": 8,
     "metadata": {},
     "output_type": "execute_result"
    }
   ],
   "source": [
    "M16[0].header"
   ]
  },
  {
   "cell_type": "code",
   "execution_count": 9,
   "metadata": {
    "scrolled": true
   },
   "outputs": [
    {
     "ename": "IndexError",
     "evalue": "list index out of range",
     "output_type": "error",
     "traceback": [
      "\u001b[1;31m---------------------------------------------------------------------------\u001b[0m",
      "\u001b[1;31mIndexError\u001b[0m                                Traceback (most recent call last)",
      "\u001b[1;32m<ipython-input-9-8d7043b34def>\u001b[0m in \u001b[0;36m<module>\u001b[1;34m\u001b[0m\n\u001b[1;32m----> 1\u001b[1;33m \u001b[0mM16\u001b[0m\u001b[1;33m[\u001b[0m\u001b[1;36m1\u001b[0m\u001b[1;33m]\u001b[0m\u001b[1;33m.\u001b[0m\u001b[0mheader\u001b[0m\u001b[1;33m\u001b[0m\u001b[1;33m\u001b[0m\u001b[0m\n\u001b[0m",
      "\u001b[1;32m~\\anaconda3\\lib\\site-packages\\astropy\\io\\fits\\hdu\\hdulist.py\u001b[0m in \u001b[0;36m__getitem__\u001b[1;34m(self, key)\u001b[0m\n\u001b[0;32m    313\u001b[0m             \u001b[1;31m# Raise a more helpful IndexError if the file was not fully read.\u001b[0m\u001b[1;33m\u001b[0m\u001b[1;33m\u001b[0m\u001b[1;33m\u001b[0m\u001b[0m\n\u001b[0;32m    314\u001b[0m             \u001b[1;32mif\u001b[0m \u001b[0mself\u001b[0m\u001b[1;33m.\u001b[0m\u001b[0m_read_all\u001b[0m\u001b[1;33m:\u001b[0m\u001b[1;33m\u001b[0m\u001b[1;33m\u001b[0m\u001b[0m\n\u001b[1;32m--> 315\u001b[1;33m                 \u001b[1;32mraise\u001b[0m \u001b[0me\u001b[0m\u001b[1;33m\u001b[0m\u001b[1;33m\u001b[0m\u001b[0m\n\u001b[0m\u001b[0;32m    316\u001b[0m             \u001b[1;32melse\u001b[0m\u001b[1;33m:\u001b[0m\u001b[1;33m\u001b[0m\u001b[1;33m\u001b[0m\u001b[0m\n\u001b[0;32m    317\u001b[0m                 raise IndexError('HDU not found, possibly because the index '\n",
      "\u001b[1;32m~\\anaconda3\\lib\\site-packages\\astropy\\io\\fits\\hdu\\hdulist.py\u001b[0m in \u001b[0;36m__getitem__\u001b[1;34m(self, key)\u001b[0m\n\u001b[0;32m    308\u001b[0m         \u001b[1;31m# instead\u001b[0m\u001b[1;33m\u001b[0m\u001b[1;33m\u001b[0m\u001b[1;33m\u001b[0m\u001b[0m\n\u001b[0;32m    309\u001b[0m         \u001b[1;32mtry\u001b[0m\u001b[1;33m:\u001b[0m\u001b[1;33m\u001b[0m\u001b[1;33m\u001b[0m\u001b[0m\n\u001b[1;32m--> 310\u001b[1;33m             return self._try_while_unread_hdus(super().__getitem__,\n\u001b[0m\u001b[0;32m    311\u001b[0m                                                self._positive_index_of(key))\n\u001b[0;32m    312\u001b[0m         \u001b[1;32mexcept\u001b[0m \u001b[0mIndexError\u001b[0m \u001b[1;32mas\u001b[0m \u001b[0me\u001b[0m\u001b[1;33m:\u001b[0m\u001b[1;33m\u001b[0m\u001b[1;33m\u001b[0m\u001b[0m\n",
      "\u001b[1;32m~\\anaconda3\\lib\\site-packages\\astropy\\io\\fits\\hdu\\hdulist.py\u001b[0m in \u001b[0;36m_try_while_unread_hdus\u001b[1;34m(self, func, *args, **kwargs)\u001b[0m\n\u001b[0;32m   1106\u001b[0m         \u001b[1;32mwhile\u001b[0m \u001b[1;32mTrue\u001b[0m\u001b[1;33m:\u001b[0m\u001b[1;33m\u001b[0m\u001b[1;33m\u001b[0m\u001b[0m\n\u001b[0;32m   1107\u001b[0m             \u001b[1;32mtry\u001b[0m\u001b[1;33m:\u001b[0m\u001b[1;33m\u001b[0m\u001b[1;33m\u001b[0m\u001b[0m\n\u001b[1;32m-> 1108\u001b[1;33m                 \u001b[1;32mreturn\u001b[0m \u001b[0mfunc\u001b[0m\u001b[1;33m(\u001b[0m\u001b[1;33m*\u001b[0m\u001b[0margs\u001b[0m\u001b[1;33m,\u001b[0m \u001b[1;33m**\u001b[0m\u001b[0mkwargs\u001b[0m\u001b[1;33m)\u001b[0m\u001b[1;33m\u001b[0m\u001b[1;33m\u001b[0m\u001b[0m\n\u001b[0m\u001b[0;32m   1109\u001b[0m             \u001b[1;32mexcept\u001b[0m \u001b[0mException\u001b[0m\u001b[1;33m:\u001b[0m\u001b[1;33m\u001b[0m\u001b[1;33m\u001b[0m\u001b[0m\n\u001b[0;32m   1110\u001b[0m                 \u001b[1;32mif\u001b[0m \u001b[0mself\u001b[0m\u001b[1;33m.\u001b[0m\u001b[0m_read_next_hdu\u001b[0m\u001b[1;33m(\u001b[0m\u001b[1;33m)\u001b[0m\u001b[1;33m:\u001b[0m\u001b[1;33m\u001b[0m\u001b[1;33m\u001b[0m\u001b[0m\n",
      "\u001b[1;31mIndexError\u001b[0m: list index out of range"
     ]
    }
   ],
   "source": [
    "M16[1].header"
   ]
  },
  {
   "cell_type": "code",
   "execution_count": null,
   "metadata": {},
   "outputs": [],
   "source": [
    "data=M16[0].data"
   ]
  },
  {
   "cell_type": "code",
   "execution_count": null,
   "metadata": {},
   "outputs": [],
   "source": [
    "data.dtype.name"
   ]
  },
  {
   "cell_type": "code",
   "execution_count": null,
   "metadata": {},
   "outputs": [],
   "source": [
    "print ('Min', np.min(data))\n",
    "print ('Max', np.max(data))\n",
    "print ('Mean', np.mean(data))\n",
    "print ('SD', np.std(data))\n"
   ]
  },
  {
   "cell_type": "code",
   "execution_count": null,
   "metadata": {},
   "outputs": [],
   "source": [
    "plt.imshow(data, cmap='gray')\n",
    "plt.colorbar()"
   ]
  },
  {
   "cell_type": "code",
   "execution_count": null,
   "metadata": {},
   "outputs": [],
   "source": [
    "histrogram = plt.hist(data.flat, bins=500)"
   ]
  },
  {
   "cell_type": "code",
   "execution_count": null,
   "metadata": {},
   "outputs": [],
   "source": [
    "from matplotlib.colors import LogNorm\n",
    "\n",
    "plt.imshow(data, cmap='gray', norm=LogNorm())\n",
    "cbar = plt.colorbar(ticks=[5.e3,1.e4,2.e4])\n",
    "cbar.ax.set_yticklabels(['5,000','10,000','20,000'])"
   ]
  },
  {
   "cell_type": "code",
   "execution_count": null,
   "metadata": {},
   "outputs": [],
   "source": [
    "from astropy.visualization import make_lupton_rgb"
   ]
  },
  {
   "cell_type": "code",
   "execution_count": null,
   "metadata": {},
   "outputs": [],
   "source": [
    "M16ha = fits.open('Ha_registered.fit')\n",
    "M16oiii = fits.open('OIII_registered.fit')\n",
    "M16sii = fits.open('SII_registered.fit')"
   ]
  },
  {
   "cell_type": "markdown",
   "metadata": {},
   "source": [
    "# Filters used\n",
    " \n",
    "## Ha filter\n",
    "The Ha_registered.fit contains data from a Hydrogen alpha filter. Since hydrogen alpha line corresponds to **656.281nm** (n=2 to n=1), the filter is used for red spectrum of visible light.\n",
    "\n",
    "## OIII filter\n",
    "The OIII_regsitered.fit contains data from a Oxygen-III filter. It  corresponds to **501nm**\n",
    "\n",
    "## SII filter\n",
    "The SII_regsitered.fit contains data from a Sulphur-II filter. It corresponds to **672nm**"
   ]
  },
  {
   "cell_type": "code",
   "execution_count": null,
   "metadata": {},
   "outputs": [],
   "source": [
    "g=M16sii[0].data\n",
    "r=M16ha[0].data\n",
    "b=M16oiii[0].data"
   ]
  },
  {
   "cell_type": "code",
   "execution_count": null,
   "metadata": {},
   "outputs": [],
   "source": [
    "from matplotlib.colors import LogNorm\n",
    "\n",
    "plt.imshow(g, cmap='gray', norm=LogNorm())\n",
    "cbar = plt.colorbar(ticks=[5.e3,1.e4,2.e4])\n",
    "cbar.ax.set_yticklabels(['5,000','10,000','20,000'])"
   ]
  },
  {
   "cell_type": "code",
   "execution_count": null,
   "metadata": {},
   "outputs": [],
   "source": [
    "from matplotlib.colors import LogNorm\n",
    "\n",
    "plt.imshow(r, cmap='gray', norm=LogNorm())\n",
    "cbar = plt.colorbar(ticks=[5.e3,1.e4,2.e4])\n",
    "cbar.ax.set_yticklabels(['5,000','10,000','20,000'])"
   ]
  },
  {
   "cell_type": "code",
   "execution_count": null,
   "metadata": {},
   "outputs": [],
   "source": [
    "from matplotlib.colors import LogNorm\n",
    "\n",
    "plt.imshow(b, cmap='gray', norm=LogNorm())\n",
    "cbar = plt.colorbar(ticks=[5.e3,1.e4,2.e4])\n",
    "cbar.ax.set_yticklabels(['5,000','10,000','20,000'])"
   ]
  },
  {
   "cell_type": "code",
   "execution_count": null,
   "metadata": {},
   "outputs": [],
   "source": [
    "rgb_default = make_lupton_rgb(r,g,b*1.8,stretch=0.005,Q=20)\n",
    "\n",
    "plt.imshow(rgb_default, origin='lower')\n",
    "plt.savefig('IKIM16-1.jpg')"
   ]
  },
  {
   "cell_type": "code",
   "execution_count": null,
   "metadata": {},
   "outputs": [],
   "source": [
    "rgb_default = make_lupton_rgb(r,g,b*1.8,stretch=0.005,Q=20)\n",
    "\n",
    "plt.imshow(rgb_default, origin='lower')\n",
    "plt.savefig('IKIM16-2.png')"
   ]
  },
  {
   "cell_type": "code",
   "execution_count": null,
   "metadata": {},
   "outputs": [],
   "source": [
    "rgb_default = make_lupton_rgb(r,(g)/1,b*3,stretch=0.0001,Q=500)\n",
    "\n",
    "plt.imshow(rgb_default, origin='lower')\n",
    "plt.savefig('IKIM16-3.png')"
   ]
  },
  {
   "cell_type": "code",
   "execution_count": null,
   "metadata": {},
   "outputs": [],
   "source": [
    "rgb_default = make_lupton_rgb(r,g,b,stretch=0.02,Q=10)\n",
    "\n",
    "plt.imshow(rgb_default, origin='lower')\n",
    "plt.savefig('IKIM16-4.jpg')"
   ]
  },
  {
   "cell_type": "markdown",
   "metadata": {},
   "source": [
    "The above image was taken from the IKI (Institut Kosmicheskih Issledovanyi, Russia) Open observatory from earth.\n",
    "https://stargazerslounge.com/topic/360782-iko-m16-data-release-august-2020/\n",
    "\n",
    "Naturally, it's data is very limited and of low quality."
   ]
  },
  {
   "cell_type": "markdown",
   "metadata": {},
   "source": [
    "# Hubble Telescope Observation\n",
    "\n",
    "The following contains data obtained from the Hubble Space telescope. It is specifically an iconic image which was released soon after the first fixes on the telescope after it was found to have very low resolving power, comparable to telescopes on the Earth. The ***Pillars of Creation*** are a very iconic image, found at the heart of the M16 Eagle Nebula."
   ]
  },
  {
   "cell_type": "markdown",
   "metadata": {},
   "source": [
    "The camera is called WFC3 - Wide field camera 3, and has 2 broad channels- IR and UV.\n",
    "This image used 3 visible range observations of 502nm, 657nm and 673nm, mapped to b,g,r in the output.\n",
    "\n",
    "Data in FITS file is present as a queue, with the first element carrying the most important data i.e. the signal data from the sensor. We simply open the file, extract data, and plot it in rgb (8-bit) colourspace"
   ]
  },
  {
   "cell_type": "code",
   "execution_count": null,
   "metadata": {},
   "outputs": [],
   "source": [
    "m16=fits.open('hlsp_heritage_hst_wfc3-ir_m16_f110w_v1_drz.fits')"
   ]
  },
  {
   "cell_type": "code",
   "execution_count": null,
   "metadata": {},
   "outputs": [],
   "source": [
    "m16"
   ]
  },
  {
   "cell_type": "code",
   "execution_count": null,
   "metadata": {},
   "outputs": [],
   "source": [
    "m16.info()"
   ]
  },
  {
   "cell_type": "code",
   "execution_count": null,
   "metadata": {},
   "outputs": [],
   "source": [
    "m16[0]"
   ]
  },
  {
   "cell_type": "code",
   "execution_count": null,
   "metadata": {},
   "outputs": [],
   "source": [
    "m16[0].header"
   ]
  },
  {
   "cell_type": "code",
   "execution_count": null,
   "metadata": {},
   "outputs": [],
   "source": [
    "m16502=fits.open('hlsp_heritage_hst_wfc3-uvis_m16_f502n_v1_drz.fits')\n",
    "m16657=fits.open('hlsp_heritage_hst_wfc3-uvis_m16_f657n_v1_drz.fits')\n",
    "m16673=fits.open('hlsp_heritage_hst_wfc3-uvis_m16_f673n_v1_drz.fits')"
   ]
  },
  {
   "cell_type": "code",
   "execution_count": null,
   "metadata": {},
   "outputs": [],
   "source": [
    "d1=m16502[0].data\n",
    "d2=m16657[0].data\n",
    "d3=m16673[0].data"
   ]
  },
  {
   "cell_type": "code",
   "execution_count": null,
   "metadata": {},
   "outputs": [],
   "source": [
    "print ('Min', np.min(d1))\n",
    "print ('Max', np.max(d1))\n",
    "print ('Mean', np.mean(d1))\n",
    "print ('SD', np.std(d1))"
   ]
  },
  {
   "cell_type": "code",
   "execution_count": null,
   "metadata": {},
   "outputs": [],
   "source": [
    "print ('Min', np.min(d2))\n",
    "print ('Max', np.max(d2))\n",
    "print ('Mean', np.mean(d2))\n",
    "print ('SD', np.std(d2))"
   ]
  },
  {
   "cell_type": "code",
   "execution_count": null,
   "metadata": {},
   "outputs": [],
   "source": [
    "from astropy.visualization import make_lupton_rgb"
   ]
  },
  {
   "cell_type": "code",
   "execution_count": null,
   "metadata": {},
   "outputs": [],
   "source": [
    "rgb_default = make_lupton_rgb(d3,d2/7,d1,stretch=0.08,Q=4)\n",
    "\n",
    "plt.imshow(rgb_default, origin='lower')\n",
    "plt.savefig('HSTM16-2.svg',format='svg',dpi=1200)"
   ]
  },
  {
   "cell_type": "code",
   "execution_count": null,
   "metadata": {},
   "outputs": [],
   "source": [
    "rgb_default = make_lupton_rgb((d3),d2,d1,stretch=1,Q=4)\n",
    "\n",
    "plt.imshow(rgb_default, origin='lower')\n",
    "plt.savefig('HSTM16-1.jpg')"
   ]
  },
  {
   "cell_type": "code",
   "execution_count": null,
   "metadata": {},
   "outputs": [],
   "source": [
    "rgb_default = make_lupton_rgb(d3,d2/7,d1,stretch=0.08,Q=4)\n",
    "\n",
    "plt.imshow(rgb_default, origin='lower')\n",
    "plt.savefig('HSTM16-2.jpg')"
   ]
  },
  {
   "cell_type": "code",
   "execution_count": null,
   "metadata": {},
   "outputs": [],
   "source": [
    "rgb_default = make_lupton_rgb(d3,d2/7,d1,stretch=0.1,Q=4)\n",
    "\n",
    "plt.imshow(rgb_default, origin='lower')\n",
    "plt.savefig('HSTM16-3.jpg')"
   ]
  },
  {
   "cell_type": "code",
   "execution_count": null,
   "metadata": {},
   "outputs": [],
   "source": [
    "rgb_default = make_lupton_rgb((d3),d2/7,d1,stretch=0.05,Q=4)\n",
    "\n",
    "plt.imshow(rgb_default, origin='lower')\n",
    "plt.savefig('HSTM16-4.jpg')"
   ]
  },
  {
   "cell_type": "code",
   "execution_count": null,
   "metadata": {},
   "outputs": [],
   "source": [
    "rgb_default = make_lupton_rgb((d3),d2/9,d1*0.9,stretch=0.05,Q=2)\n",
    "\n",
    "plt.imshow(rgb_default, origin='lower')\n",
    "plt.savefig('HSTM16-5.jpg')"
   ]
  },
  {
   "cell_type": "markdown",
   "metadata": {},
   "source": [
    "## Understanding the astropy.visualisation.make_lupton_rgb function\n",
    "\n",
    "The function is used to create an 8-bit rgb image using data from three different filters.\n",
    "\n",
    "-The first three parameters are for the red, green, blue ranges of colours in the final output. It accepts a numpy.ndarray for each of r, g, b arguments.  \n",
    "\n",
    "-If any one colour have high intensity, python gives the facility to simply divide/multiply the array by a constant. This **scales** the output of that colour. For example, in M16 observations of the Hubble Space telescope, the 657nm intensity is much higher than others. As a result, it must be scaled down by factor of 1/7 for better result. \n",
    "\n",
    "-Next is actually a minimum argument, which we do not use here, and is used to set a threshold for intensity to be plotted. This can be useful to **get rid of noise** in the image which is generally of lower intensity. It's default value is 0. \n",
    "\n",
    "-The stretch value (default=5) is used to specify linear stretch of the image. It is dampen the intensity of the signal by a factor equal to it's value. This also allows us to amplify the signal intensity for better viewing. It increases the **brightness** of the image.\n",
    "\n",
    "-The Q value (default=8) is the asinh softening parameter. It has roughly an inverse relationship with the **contrast** of the signal intensities in output.\n",
    "\n",
    "-Finally, a filename parameter can accept a string to the file in the project folder where the image output can be overwritten."
   ]
  }
 ],
 "metadata": {
  "kernelspec": {
   "display_name": "Python 3",
   "language": "python",
   "name": "python3"
  },
  "language_info": {
   "codemirror_mode": {
    "name": "ipython",
    "version": 3
   },
   "file_extension": ".py",
   "mimetype": "text/x-python",
   "name": "python",
   "nbconvert_exporter": "python",
   "pygments_lexer": "ipython3",
   "version": "3.8.5"
  }
 },
 "nbformat": 4,
 "nbformat_minor": 4
}
